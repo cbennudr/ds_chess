{
    "cells": [
        {
            "cell_type": "code",
            "execution_count": 2,
            "source": [
                "import pandas as pd\r\n",
                "from sklearn.model_selection import train_test_split\r\n",
                "from sklearn.model_selection import GridSearchCV\r\n",
                "from sklearn.metrics import classification_report\r\n",
                "\r\n",
                "df = pd.read_csv('games.csv')\r\n",
                "df = df[['winner', 'rated', 'created_at', 'last_move_at', 'turns', 'victory_status', 'increment_code',\r\n",
                "         'white_rating', 'black_rating', 'opening_eco', 'opening_ply']]\r\n",
                "df.winner.replace({\"white\": 1, \"black\": -1, \"draw\": 0}, inplace=True)\r\n",
                "\r\n",
                "dfDum = pd.get_dummies(df)\r\n",
                "\r\n",
                "X = dfDum.drop('winner', axis=1)\r\n",
                "y = dfDum.winner.values\r\n",
                "\r\n",
                "X_train, X_test, y_train, y_test = train_test_split(X, y, test_size=0.2, random_state=42) \r\n"
            ],
            "outputs": [],
            "metadata": {}
        },
        {
            "cell_type": "markdown",
            "source": [
                "# KNN"
            ],
            "metadata": {}
        },
        {
            "cell_type": "code",
            "execution_count": 12,
            "source": [
                "from sklearn.neighbors import KNeighborsClassifier\r\n",
                "knn = KNeighborsClassifier()\r\n",
                "knn.fit(X_train, y_train)\r\n",
                "pred = knn.predict(X_test)\r\n",
                "from sklearn.metrics import classification_report\r\n",
                "print(classification_report(y_test, pred))\r\n",
                "'''\r\n",
                ".46 accuracy\r\n",
                "'''"
            ],
            "outputs": [
                {
                    "output_type": "stream",
                    "name": "stdout",
                    "text": [
                        "              precision    recall  f1-score   support\n",
                        "\n",
                        "          -1       0.43      0.47      0.45      1816\n",
                        "           0       0.09      0.02      0.03       192\n",
                        "           1       0.49      0.49      0.49      2004\n",
                        "\n",
                        "    accuracy                           0.46      4012\n",
                        "   macro avg       0.34      0.33      0.33      4012\n",
                        "weighted avg       0.45      0.46      0.45      4012\n",
                        "\n"
                    ]
                },
                {
                    "output_type": "execute_result",
                    "data": {
                        "text/plain": [
                            "'\\n.47 accuracy\\n'"
                        ]
                    },
                    "metadata": {},
                    "execution_count": 12
                }
            ],
            "metadata": {}
        },
        {
            "cell_type": "code",
            "execution_count": 13,
            "source": [
                "knn2 = KNeighborsClassifier()\r\n",
                "param_grid = {'n_neighbors': [i for i in range(1, 100)]}\r\n",
                "gs = GridSearchCV(knn2, param_grid, cv=10, scoring='accuracy')\r\n",
                "gs.fit(X_train, y_train)\r\n",
                "pred = gs.best_estimator_.predict(X_test)\r\n",
                "\r\n",
                "print(gs.best_estimator_)\r\n",
                "print(classification_report(y_test, pred))\r\n",
                "'''\r\n",
                "KNeighborsClassifier(algorithm='auto', leaf_size=30, metric='minkowski',\r\n",
                "                     metric_params=None, n_jobs=None, n_neighbors=73, p=2,\r\n",
                "                     weights='uniform')\r\n",
                ".48 accuracy\r\n",
                "'''"
            ],
            "outputs": [
                {
                    "output_type": "stream",
                    "name": "stdout",
                    "text": [
                        "KNeighborsClassifier(n_neighbors=73)\n",
                        "              precision    recall  f1-score   support\n",
                        "\n",
                        "          -1       0.45      0.38      0.41      1816\n",
                        "           0       0.00      0.00      0.00       192\n",
                        "           1       0.50      0.61      0.55      2004\n",
                        "\n",
                        "    accuracy                           0.48      4012\n",
                        "   macro avg       0.31      0.33      0.32      4012\n",
                        "weighted avg       0.45      0.48      0.46      4012\n",
                        "\n"
                    ]
                },
                {
                    "output_type": "stream",
                    "name": "stderr",
                    "text": [
                        "C:\\Users\\CBenn\\AppData\\Local\\Programs\\Python\\Python39\\lib\\site-packages\\sklearn\\metrics\\_classification.py:1248: UndefinedMetricWarning: Precision and F-score are ill-defined and being set to 0.0 in labels with no predicted samples. Use `zero_division` parameter to control this behavior.\n",
                        "  _warn_prf(average, modifier, msg_start, len(result))\n",
                        "C:\\Users\\CBenn\\AppData\\Local\\Programs\\Python\\Python39\\lib\\site-packages\\sklearn\\metrics\\_classification.py:1248: UndefinedMetricWarning: Precision and F-score are ill-defined and being set to 0.0 in labels with no predicted samples. Use `zero_division` parameter to control this behavior.\n",
                        "  _warn_prf(average, modifier, msg_start, len(result))\n",
                        "C:\\Users\\CBenn\\AppData\\Local\\Programs\\Python\\Python39\\lib\\site-packages\\sklearn\\metrics\\_classification.py:1248: UndefinedMetricWarning: Precision and F-score are ill-defined and being set to 0.0 in labels with no predicted samples. Use `zero_division` parameter to control this behavior.\n",
                        "  _warn_prf(average, modifier, msg_start, len(result))\n"
                    ]
                },
                {
                    "output_type": "execute_result",
                    "data": {
                        "text/plain": [
                            "\"\\nKNeighborsClassifier(algorithm='auto', leaf_size=30, metric='minkowski',\\n                     metric_params=None, n_jobs=None, n_neighbors=1, p=2,\\n                     weights='uniform')\\n.48 accuracy\\n\""
                        ]
                    },
                    "metadata": {},
                    "execution_count": 13
                }
            ],
            "metadata": {}
        },
        {
            "cell_type": "markdown",
            "source": [
                "# Decision tree"
            ],
            "metadata": {}
        },
        {
            "cell_type": "code",
            "execution_count": 10,
            "source": [
                "from sklearn.tree import DecisionTreeClassifier\r\n",
                "dt = DecisionTreeClassifier()\r\n",
                "dt.fit(X_train, y_train)\r\n",
                "pred = dt.predict(X_test)\r\n",
                "print(classification_report(y_test, pred))\r\n",
                "'''\r\n",
                ".65 accuracy\r\n",
                "'''"
            ],
            "outputs": [
                {
                    "output_type": "stream",
                    "name": "stdout",
                    "text": [
                        "              precision    recall  f1-score   support\n",
                        "\n",
                        "          -1       0.62      0.59      0.61      1816\n",
                        "           0       0.99      0.94      0.97       192\n",
                        "           1       0.64      0.67      0.66      2004\n",
                        "\n",
                        "    accuracy                           0.65      4012\n",
                        "   macro avg       0.75      0.74      0.74      4012\n",
                        "weighted avg       0.65      0.65      0.65      4012\n",
                        "\n"
                    ]
                },
                {
                    "output_type": "execute_result",
                    "data": {
                        "text/plain": [
                            "'\\n.65 accuracy\\n'"
                        ]
                    },
                    "metadata": {},
                    "execution_count": 10
                }
            ],
            "metadata": {}
        },
        {
            "cell_type": "code",
            "execution_count": 11,
            "source": [
                "dt2 = DecisionTreeClassifier()\r\n",
                "param_grid = {'criterion': ['gini', 'entropy'], 'splitter': ['best', 'random']}\r\n",
                "gs = GridSearchCV(dt2, param_grid, cv=10, scoring='accuracy')\r\n",
                "gs.fit(X_train, y_train)\r\n",
                "\r\n",
                "print(gs.best_estimator_)\r\n",
                "pred = gs.best_estimator_.predict(X_test)\r\n",
                "print(classification_report(y_test, pred))\r\n",
                "'''\r\n",
                "DecisionTreeClassifier(ccp_alpha=0.0, class_weight=None, criterion='entropy',\r\n",
                "                       max_depth=None, max_features=None, max_leaf_nodes=None,\r\n",
                "                       min_impurity_decrease=0.0, min_impurity_split=None,\r\n",
                "                       min_samples_leaf=1, min_samples_split=2,\r\n",
                "                       min_weight_fraction_leaf=0.0, presort='deprecated',\r\n",
                "                       random_state=None, splitter='best')\r\n",
                ".64 accuracy\r\n",
                "'''"
            ],
            "outputs": [
                {
                    "output_type": "stream",
                    "name": "stdout",
                    "text": [
                        "DecisionTreeClassifier(criterion='entropy')\n",
                        "              precision    recall  f1-score   support\n",
                        "\n",
                        "          -1       0.60      0.60      0.60      1816\n",
                        "           0       0.98      0.95      0.96       192\n",
                        "           1       0.64      0.64      0.64      2004\n",
                        "\n",
                        "    accuracy                           0.64      4012\n",
                        "   macro avg       0.74      0.73      0.73      4012\n",
                        "weighted avg       0.64      0.64      0.64      4012\n",
                        "\n"
                    ]
                },
                {
                    "output_type": "execute_result",
                    "data": {
                        "text/plain": [
                            "\"\\nDecisionTreeClassifier(ccp_alpha=0.0, class_weight=None, criterion='entropy',\\n                       max_depth=None, max_features=None, max_leaf_nodes=None,\\n                       min_impurity_decrease=0.0, min_impurity_split=None,\\n                       min_samples_leaf=1, min_samples_split=2,\\n                       min_weight_fraction_leaf=0.0, presort='deprecated',\\n                       random_state=None, splitter='best')\\n.64 accuracy\\n\""
                        ]
                    },
                    "metadata": {},
                    "execution_count": 11
                }
            ],
            "metadata": {}
        },
        {
            "cell_type": "markdown",
            "source": [
                "# Naive Bayes"
            ],
            "metadata": {}
        },
        {
            "cell_type": "code",
            "execution_count": 33,
            "source": [
                "from sklearn.naive_bayes import GaussianNB\r\n",
                "gnb = GaussianNB()\r\n",
                "gnb.fit(X_train, y_train)\r\n",
                "pred = gnb.predict(X_test)\r\n",
                "print(classification_report(y_test, pred))\r\n",
                "'''\r\n",
                ".47 accuracy\r\n",
                "'''"
            ],
            "outputs": [
                {
                    "output_type": "stream",
                    "name": "stdout",
                    "text": [
                        "              precision    recall  f1-score   support\n",
                        "\n",
                        "          -1       0.45      0.57      0.50      1816\n",
                        "           0       0.00      0.00      0.00       192\n",
                        "           1       0.51      0.43      0.47      2004\n",
                        "\n",
                        "    accuracy                           0.47      4012\n",
                        "   macro avg       0.32      0.33      0.32      4012\n",
                        "weighted avg       0.46      0.47      0.46      4012\n",
                        "\n"
                    ]
                },
                {
                    "output_type": "stream",
                    "name": "stderr",
                    "text": [
                        "C:\\Users\\CBenn\\AppData\\Local\\Programs\\Python\\Python39\\lib\\site-packages\\sklearn\\metrics\\_classification.py:1248: UndefinedMetricWarning: Precision and F-score are ill-defined and being set to 0.0 in labels with no predicted samples. Use `zero_division` parameter to control this behavior.\n",
                        "  _warn_prf(average, modifier, msg_start, len(result))\n",
                        "C:\\Users\\CBenn\\AppData\\Local\\Programs\\Python\\Python39\\lib\\site-packages\\sklearn\\metrics\\_classification.py:1248: UndefinedMetricWarning: Precision and F-score are ill-defined and being set to 0.0 in labels with no predicted samples. Use `zero_division` parameter to control this behavior.\n",
                        "  _warn_prf(average, modifier, msg_start, len(result))\n",
                        "C:\\Users\\CBenn\\AppData\\Local\\Programs\\Python\\Python39\\lib\\site-packages\\sklearn\\metrics\\_classification.py:1248: UndefinedMetricWarning: Precision and F-score are ill-defined and being set to 0.0 in labels with no predicted samples. Use `zero_division` parameter to control this behavior.\n",
                        "  _warn_prf(average, modifier, msg_start, len(result))\n"
                    ]
                },
                {
                    "output_type": "execute_result",
                    "data": {
                        "text/plain": [
                            "'\\naccuracy of .47\\n'"
                        ]
                    },
                    "metadata": {},
                    "execution_count": 33
                }
            ],
            "metadata": {}
        },
        {
            "cell_type": "code",
            "execution_count": null,
            "source": [
                "from sklearn.naive_bayes import BernoulliNB\r\n",
                "bnb = GaussianNB()\r\n",
                "bnb.fit(X_train, y_train)\r\n",
                "pred = bnb.predict(X_test)\r\n",
                "print(classification_report(y_test, pred))\r\n",
                "'''\r\n",
                ".47 accuracy\r\n",
                "'''"
            ],
            "outputs": [],
            "metadata": {}
        },
        {
            "cell_type": "code",
            "execution_count": 17,
            "source": [
                "gnb2 = GaussianNB()\r\n",
                "param_grid = {'var_smoothing': [i for i in range(1, 10)]}\r\n",
                "gsnb = GridSearchCV(gnb2, param_grid, cv=10, scoring='accuracy')\r\n",
                "gsnb.fit(X_train, y_train)\r\n",
                "pred = gsnb.best_estimator_.predict(X_test)\r\n",
                "print(classification_report(y_test, pred))\r\n",
                "print(gsnb.best_estimator_)\r\n",
                "'''\r\n",
                "GaussianNB(var_smoothing=1)\r\n",
                ".5 accuracy\r\n",
                "'''"
            ],
            "outputs": [
                {
                    "output_type": "stream",
                    "name": "stderr",
                    "text": [
                        "C:\\Users\\CBenn\\AppData\\Local\\Programs\\Python\\Python39\\lib\\site-packages\\sklearn\\naive_bayes.py:452: RuntimeWarning: divide by zero encountered in log\n",
                        "  n_ij = - 0.5 * np.sum(np.log(2. * np.pi * self.sigma_[i, :]))\n",
                        "C:\\Users\\CBenn\\AppData\\Local\\Programs\\Python\\Python39\\lib\\site-packages\\sklearn\\naive_bayes.py:453: RuntimeWarning: divide by zero encountered in true_divide\n",
                        "  n_ij -= 0.5 * np.sum(((X - self.theta_[i, :]) ** 2) /\n",
                        "C:\\Users\\CBenn\\AppData\\Local\\Programs\\Python\\Python39\\lib\\site-packages\\sklearn\\naive_bayes.py:453: RuntimeWarning: invalid value encountered in true_divide\n",
                        "  n_ij -= 0.5 * np.sum(((X - self.theta_[i, :]) ** 2) /\n",
                        "C:\\Users\\CBenn\\AppData\\Local\\Programs\\Python\\Python39\\lib\\site-packages\\sklearn\\naive_bayes.py:452: RuntimeWarning: divide by zero encountered in log\n",
                        "  n_ij = - 0.5 * np.sum(np.log(2. * np.pi * self.sigma_[i, :]))\n",
                        "C:\\Users\\CBenn\\AppData\\Local\\Programs\\Python\\Python39\\lib\\site-packages\\sklearn\\naive_bayes.py:453: RuntimeWarning: divide by zero encountered in true_divide\n",
                        "  n_ij -= 0.5 * np.sum(((X - self.theta_[i, :]) ** 2) /\n",
                        "C:\\Users\\CBenn\\AppData\\Local\\Programs\\Python\\Python39\\lib\\site-packages\\sklearn\\naive_bayes.py:453: RuntimeWarning: invalid value encountered in true_divide\n",
                        "  n_ij -= 0.5 * np.sum(((X - self.theta_[i, :]) ** 2) /\n",
                        "C:\\Users\\CBenn\\AppData\\Local\\Programs\\Python\\Python39\\lib\\site-packages\\sklearn\\naive_bayes.py:452: RuntimeWarning: divide by zero encountered in log\n",
                        "  n_ij = - 0.5 * np.sum(np.log(2. * np.pi * self.sigma_[i, :]))\n",
                        "C:\\Users\\CBenn\\AppData\\Local\\Programs\\Python\\Python39\\lib\\site-packages\\sklearn\\naive_bayes.py:453: RuntimeWarning: divide by zero encountered in true_divide\n",
                        "  n_ij -= 0.5 * np.sum(((X - self.theta_[i, :]) ** 2) /\n",
                        "C:\\Users\\CBenn\\AppData\\Local\\Programs\\Python\\Python39\\lib\\site-packages\\sklearn\\naive_bayes.py:453: RuntimeWarning: invalid value encountered in true_divide\n",
                        "  n_ij -= 0.5 * np.sum(((X - self.theta_[i, :]) ** 2) /\n",
                        "C:\\Users\\CBenn\\AppData\\Local\\Programs\\Python\\Python39\\lib\\site-packages\\sklearn\\naive_bayes.py:452: RuntimeWarning: divide by zero encountered in log\n",
                        "  n_ij = - 0.5 * np.sum(np.log(2. * np.pi * self.sigma_[i, :]))\n",
                        "C:\\Users\\CBenn\\AppData\\Local\\Programs\\Python\\Python39\\lib\\site-packages\\sklearn\\naive_bayes.py:453: RuntimeWarning: divide by zero encountered in true_divide\n",
                        "  n_ij -= 0.5 * np.sum(((X - self.theta_[i, :]) ** 2) /\n",
                        "C:\\Users\\CBenn\\AppData\\Local\\Programs\\Python\\Python39\\lib\\site-packages\\sklearn\\naive_bayes.py:453: RuntimeWarning: invalid value encountered in true_divide\n",
                        "  n_ij -= 0.5 * np.sum(((X - self.theta_[i, :]) ** 2) /\n",
                        "C:\\Users\\CBenn\\AppData\\Local\\Programs\\Python\\Python39\\lib\\site-packages\\sklearn\\naive_bayes.py:452: RuntimeWarning: divide by zero encountered in log\n",
                        "  n_ij = - 0.5 * np.sum(np.log(2. * np.pi * self.sigma_[i, :]))\n",
                        "C:\\Users\\CBenn\\AppData\\Local\\Programs\\Python\\Python39\\lib\\site-packages\\sklearn\\naive_bayes.py:453: RuntimeWarning: divide by zero encountered in true_divide\n",
                        "  n_ij -= 0.5 * np.sum(((X - self.theta_[i, :]) ** 2) /\n",
                        "C:\\Users\\CBenn\\AppData\\Local\\Programs\\Python\\Python39\\lib\\site-packages\\sklearn\\naive_bayes.py:453: RuntimeWarning: invalid value encountered in true_divide\n",
                        "  n_ij -= 0.5 * np.sum(((X - self.theta_[i, :]) ** 2) /\n",
                        "C:\\Users\\CBenn\\AppData\\Local\\Programs\\Python\\Python39\\lib\\site-packages\\sklearn\\naive_bayes.py:452: RuntimeWarning: divide by zero encountered in log\n",
                        "  n_ij = - 0.5 * np.sum(np.log(2. * np.pi * self.sigma_[i, :]))\n",
                        "C:\\Users\\CBenn\\AppData\\Local\\Programs\\Python\\Python39\\lib\\site-packages\\sklearn\\naive_bayes.py:453: RuntimeWarning: divide by zero encountered in true_divide\n",
                        "  n_ij -= 0.5 * np.sum(((X - self.theta_[i, :]) ** 2) /\n",
                        "C:\\Users\\CBenn\\AppData\\Local\\Programs\\Python\\Python39\\lib\\site-packages\\sklearn\\naive_bayes.py:453: RuntimeWarning: invalid value encountered in true_divide\n",
                        "  n_ij -= 0.5 * np.sum(((X - self.theta_[i, :]) ** 2) /\n",
                        "C:\\Users\\CBenn\\AppData\\Local\\Programs\\Python\\Python39\\lib\\site-packages\\sklearn\\naive_bayes.py:452: RuntimeWarning: divide by zero encountered in log\n",
                        "  n_ij = - 0.5 * np.sum(np.log(2. * np.pi * self.sigma_[i, :]))\n",
                        "C:\\Users\\CBenn\\AppData\\Local\\Programs\\Python\\Python39\\lib\\site-packages\\sklearn\\naive_bayes.py:453: RuntimeWarning: divide by zero encountered in true_divide\n",
                        "  n_ij -= 0.5 * np.sum(((X - self.theta_[i, :]) ** 2) /\n",
                        "C:\\Users\\CBenn\\AppData\\Local\\Programs\\Python\\Python39\\lib\\site-packages\\sklearn\\naive_bayes.py:453: RuntimeWarning: invalid value encountered in true_divide\n",
                        "  n_ij -= 0.5 * np.sum(((X - self.theta_[i, :]) ** 2) /\n",
                        "C:\\Users\\CBenn\\AppData\\Local\\Programs\\Python\\Python39\\lib\\site-packages\\sklearn\\naive_bayes.py:452: RuntimeWarning: divide by zero encountered in log\n",
                        "  n_ij = - 0.5 * np.sum(np.log(2. * np.pi * self.sigma_[i, :]))\n",
                        "C:\\Users\\CBenn\\AppData\\Local\\Programs\\Python\\Python39\\lib\\site-packages\\sklearn\\naive_bayes.py:453: RuntimeWarning: divide by zero encountered in true_divide\n",
                        "  n_ij -= 0.5 * np.sum(((X - self.theta_[i, :]) ** 2) /\n",
                        "C:\\Users\\CBenn\\AppData\\Local\\Programs\\Python\\Python39\\lib\\site-packages\\sklearn\\naive_bayes.py:453: RuntimeWarning: invalid value encountered in true_divide\n",
                        "  n_ij -= 0.5 * np.sum(((X - self.theta_[i, :]) ** 2) /\n",
                        "C:\\Users\\CBenn\\AppData\\Local\\Programs\\Python\\Python39\\lib\\site-packages\\sklearn\\naive_bayes.py:452: RuntimeWarning: divide by zero encountered in log\n",
                        "  n_ij = - 0.5 * np.sum(np.log(2. * np.pi * self.sigma_[i, :]))\n",
                        "C:\\Users\\CBenn\\AppData\\Local\\Programs\\Python\\Python39\\lib\\site-packages\\sklearn\\naive_bayes.py:453: RuntimeWarning: divide by zero encountered in true_divide\n",
                        "  n_ij -= 0.5 * np.sum(((X - self.theta_[i, :]) ** 2) /\n",
                        "C:\\Users\\CBenn\\AppData\\Local\\Programs\\Python\\Python39\\lib\\site-packages\\sklearn\\naive_bayes.py:453: RuntimeWarning: invalid value encountered in true_divide\n",
                        "  n_ij -= 0.5 * np.sum(((X - self.theta_[i, :]) ** 2) /\n",
                        "C:\\Users\\CBenn\\AppData\\Local\\Programs\\Python\\Python39\\lib\\site-packages\\sklearn\\naive_bayes.py:452: RuntimeWarning: divide by zero encountered in log\n",
                        "  n_ij = - 0.5 * np.sum(np.log(2. * np.pi * self.sigma_[i, :]))\n",
                        "C:\\Users\\CBenn\\AppData\\Local\\Programs\\Python\\Python39\\lib\\site-packages\\sklearn\\naive_bayes.py:453: RuntimeWarning: divide by zero encountered in true_divide\n",
                        "  n_ij -= 0.5 * np.sum(((X - self.theta_[i, :]) ** 2) /\n",
                        "C:\\Users\\CBenn\\AppData\\Local\\Programs\\Python\\Python39\\lib\\site-packages\\sklearn\\naive_bayes.py:453: RuntimeWarning: invalid value encountered in true_divide\n",
                        "  n_ij -= 0.5 * np.sum(((X - self.theta_[i, :]) ** 2) /\n"
                    ]
                },
                {
                    "output_type": "stream",
                    "name": "stdout",
                    "text": [
                        "              precision    recall  f1-score   support\n",
                        "\n",
                        "          -1       0.45      0.57      0.50      1816\n",
                        "           0       0.00      0.00      0.00       192\n",
                        "           1       0.51      0.43      0.47      2004\n",
                        "\n",
                        "    accuracy                           0.47      4012\n",
                        "   macro avg       0.32      0.33      0.32      4012\n",
                        "weighted avg       0.46      0.47      0.46      4012\n",
                        "\n"
                    ]
                },
                {
                    "output_type": "stream",
                    "name": "stderr",
                    "text": [
                        "C:\\Users\\CBenn\\AppData\\Local\\Programs\\Python\\Python39\\lib\\site-packages\\sklearn\\metrics\\_classification.py:1248: UndefinedMetricWarning: Precision and F-score are ill-defined and being set to 0.0 in labels with no predicted samples. Use `zero_division` parameter to control this behavior.\n",
                        "  _warn_prf(average, modifier, msg_start, len(result))\n",
                        "C:\\Users\\CBenn\\AppData\\Local\\Programs\\Python\\Python39\\lib\\site-packages\\sklearn\\metrics\\_classification.py:1248: UndefinedMetricWarning: Precision and F-score are ill-defined and being set to 0.0 in labels with no predicted samples. Use `zero_division` parameter to control this behavior.\n",
                        "  _warn_prf(average, modifier, msg_start, len(result))\n",
                        "C:\\Users\\CBenn\\AppData\\Local\\Programs\\Python\\Python39\\lib\\site-packages\\sklearn\\metrics\\_classification.py:1248: UndefinedMetricWarning: Precision and F-score are ill-defined and being set to 0.0 in labels with no predicted samples. Use `zero_division` parameter to control this behavior.\n",
                        "  _warn_prf(average, modifier, msg_start, len(result))\n"
                    ]
                },
                {
                    "output_type": "execute_result",
                    "data": {
                        "text/plain": [
                            "'\\nGaussianNB(var_smoothing=1)\\naccuracy of .5\\n'"
                        ]
                    },
                    "metadata": {},
                    "execution_count": 17
                }
            ],
            "metadata": {}
        },
        {
            "cell_type": "markdown",
            "source": [
                "# Random Forest "
            ],
            "metadata": {}
        },
        {
            "cell_type": "code",
            "execution_count": 8,
            "source": [
                "from sklearn.ensemble import RandomForestClassifier\r\n",
                "rfc = RandomForestClassifier()\r\n",
                "rfc.fit(X_train, y_train)\r\n",
                "pred = rfc.predict(X_test)\r\n",
                "print(classification_report(y_test, pred))\r\n",
                "'''\r\n",
                ".68 accuracy\r\n",
                "'''"
            ],
            "outputs": [
                {
                    "output_type": "stream",
                    "name": "stdout",
                    "text": [
                        "              precision    recall  f1-score   support\n",
                        "\n",
                        "          -1       0.66      0.62      0.64      1816\n",
                        "           0       1.00      0.94      0.97       192\n",
                        "           1       0.67      0.71      0.69      2004\n",
                        "\n",
                        "    accuracy                           0.68      4012\n",
                        "   macro avg       0.78      0.76      0.77      4012\n",
                        "weighted avg       0.68      0.68      0.68      4012\n",
                        "\n"
                    ]
                },
                {
                    "output_type": "execute_result",
                    "data": {
                        "text/plain": [
                            "'\\n.68 accuracy\\n'"
                        ]
                    },
                    "metadata": {},
                    "execution_count": 8
                }
            ],
            "metadata": {}
        },
        {
            "cell_type": "code",
            "execution_count": 32,
            "source": [
                "rfc2 = RandomForestClassifier()\r\n",
                "param_grid = {'n_estimators': [i for i in range(1, 50)]}\r\n",
                "gsnb = GridSearchCV(rfc2, param_grid, cv=10, scoring='accuracy')\r\n",
                "gsnb.fit(X_train, y_train)\r\n",
                "pred = gsnb.best_estimator_.predict(X_test)\r\n",
                "print(gsnb.best_estimator_)\r\n",
                "print(classification_report(y_test, pred))\r\n",
                "''''\r\n",
                "RandomForestClassifier(n_estimators=45)\r\n",
                ".68 accuracy\r\n",
                "'''"
            ],
            "outputs": [
                {
                    "output_type": "stream",
                    "name": "stdout",
                    "text": [
                        "RandomForestClassifier(n_estimators=45)\n",
                        "              precision    recall  f1-score   support\n",
                        "\n",
                        "          -1       0.65      0.61      0.63      1816\n",
                        "           0       1.00      0.94      0.97       192\n",
                        "           1       0.67      0.71      0.69      2004\n",
                        "\n",
                        "    accuracy                           0.68      4012\n",
                        "   macro avg       0.77      0.75      0.76      4012\n",
                        "weighted avg       0.68      0.68      0.68      4012\n",
                        "\n"
                    ]
                }
            ],
            "metadata": {}
        },
        {
            "cell_type": "markdown",
            "source": [
                "# Logistic Regression"
            ],
            "metadata": {}
        },
        {
            "cell_type": "code",
            "execution_count": 29,
            "source": [
                "from sklearn.linear_model import LogisticRegression\r\n",
                "lr = LogisticRegression(multi_class = 'multinomial')\r\n",
                "lr.fit(X_train, y_train)\r\n",
                "pred = lr.predict(X_test)\r\n",
                "print(classification_report(y_test, pred))\r\n",
                "'''\r\n",
                ".5 accuracy\r\n",
                "'''"
            ],
            "outputs": [
                {
                    "output_type": "stream",
                    "name": "stdout",
                    "text": [
                        "              precision    recall  f1-score   support\n",
                        "\n",
                        "          -1       0.00      0.00      0.00      1816\n",
                        "           0       0.00      0.00      0.00       192\n",
                        "           1       0.50      1.00      0.67      2004\n",
                        "\n",
                        "    accuracy                           0.50      4012\n",
                        "   macro avg       0.17      0.33      0.22      4012\n",
                        "weighted avg       0.25      0.50      0.33      4012\n",
                        "\n"
                    ]
                },
                {
                    "output_type": "stream",
                    "name": "stderr",
                    "text": [
                        "C:\\Users\\CBenn\\AppData\\Local\\Programs\\Python\\Python39\\lib\\site-packages\\sklearn\\metrics\\_classification.py:1248: UndefinedMetricWarning: Precision and F-score are ill-defined and being set to 0.0 in labels with no predicted samples. Use `zero_division` parameter to control this behavior.\n",
                        "  _warn_prf(average, modifier, msg_start, len(result))\n",
                        "C:\\Users\\CBenn\\AppData\\Local\\Programs\\Python\\Python39\\lib\\site-packages\\sklearn\\metrics\\_classification.py:1248: UndefinedMetricWarning: Precision and F-score are ill-defined and being set to 0.0 in labels with no predicted samples. Use `zero_division` parameter to control this behavior.\n",
                        "  _warn_prf(average, modifier, msg_start, len(result))\n",
                        "C:\\Users\\CBenn\\AppData\\Local\\Programs\\Python\\Python39\\lib\\site-packages\\sklearn\\metrics\\_classification.py:1248: UndefinedMetricWarning: Precision and F-score are ill-defined and being set to 0.0 in labels with no predicted samples. Use `zero_division` parameter to control this behavior.\n",
                        "  _warn_prf(average, modifier, msg_start, len(result))\n"
                    ]
                },
                {
                    "output_type": "execute_result",
                    "data": {
                        "text/plain": [
                            "'\\naccuracy of .5\\n'"
                        ]
                    },
                    "metadata": {},
                    "execution_count": 29
                }
            ],
            "metadata": {}
        },
        {
            "cell_type": "code",
            "execution_count": 31,
            "source": [
                "lr2 = LogisticRegression(multi_class='multinomial')\r\n",
                "param_grid = {'C': [i/10 for i in range(1, 10)]}\r\n",
                "lrgs = GridSearchCV(lr2, param_grid, cv=10, scoring='accuracy')\r\n",
                "lrgs.fit(X_train, y_train)\r\n",
                "pred = lrgs.best_estimator_.predict(X_test)\r\n",
                "print(classification_report(y_test, pred))\r\n",
                "print(lrgs.best_estimator_)\r\n",
                "'''\r\n",
                "LogisticRegression(C=0.1, multi_class='multinomial')\r\n",
                ".5 accuracy\r\n",
                "'''"
            ],
            "outputs": [
                {
                    "output_type": "stream",
                    "name": "stdout",
                    "text": [
                        "              precision    recall  f1-score   support\n",
                        "\n",
                        "          -1       0.00      0.00      0.00      1816\n",
                        "           0       0.00      0.00      0.00       192\n",
                        "           1       0.50      1.00      0.67      2004\n",
                        "\n",
                        "    accuracy                           0.50      4012\n",
                        "   macro avg       0.17      0.33      0.22      4012\n",
                        "weighted avg       0.25      0.50      0.33      4012\n",
                        "\n",
                        "LogisticRegression(C=0.1, multi_class='multinomial')\n"
                    ]
                },
                {
                    "output_type": "stream",
                    "name": "stderr",
                    "text": [
                        "C:\\Users\\CBenn\\AppData\\Local\\Programs\\Python\\Python39\\lib\\site-packages\\sklearn\\metrics\\_classification.py:1248: UndefinedMetricWarning: Precision and F-score are ill-defined and being set to 0.0 in labels with no predicted samples. Use `zero_division` parameter to control this behavior.\n",
                        "  _warn_prf(average, modifier, msg_start, len(result))\n",
                        "C:\\Users\\CBenn\\AppData\\Local\\Programs\\Python\\Python39\\lib\\site-packages\\sklearn\\metrics\\_classification.py:1248: UndefinedMetricWarning: Precision and F-score are ill-defined and being set to 0.0 in labels with no predicted samples. Use `zero_division` parameter to control this behavior.\n",
                        "  _warn_prf(average, modifier, msg_start, len(result))\n",
                        "C:\\Users\\CBenn\\AppData\\Local\\Programs\\Python\\Python39\\lib\\site-packages\\sklearn\\metrics\\_classification.py:1248: UndefinedMetricWarning: Precision and F-score are ill-defined and being set to 0.0 in labels with no predicted samples. Use `zero_division` parameter to control this behavior.\n",
                        "  _warn_prf(average, modifier, msg_start, len(result))\n"
                    ]
                }
            ],
            "metadata": {}
        },
        {
            "cell_type": "markdown",
            "source": [
                "# Gradient Boost"
            ],
            "metadata": {}
        },
        {
            "cell_type": "code",
            "execution_count": 4,
            "source": [
                "from sklearn.ensemble import GradientBoostingClassifier\r\n",
                "gbc = GradientBoostingClassifier()\r\n",
                "gbc.fit(X_train, y_train)\r\n",
                "pred = gbc.predict(X_test)\r\n",
                "print(classification_report(y_test, pred))\r\n",
                "'''\r\n",
                ".69 accuracy\r\n",
                "'''"
            ],
            "outputs": [
                {
                    "output_type": "stream",
                    "name": "stdout",
                    "text": [
                        "              precision    recall  f1-score   support\n",
                        "\n",
                        "          -1       0.68      0.61      0.64      1816\n",
                        "           0       0.99      0.94      0.97       192\n",
                        "           1       0.68      0.74      0.71      2004\n",
                        "\n",
                        "    accuracy                           0.69      4012\n",
                        "   macro avg       0.78      0.76      0.77      4012\n",
                        "weighted avg       0.69      0.69      0.69      4012\n",
                        "\n"
                    ]
                },
                {
                    "output_type": "execute_result",
                    "data": {
                        "text/plain": [
                            "'\\naccuracy of .69\\n'"
                        ]
                    },
                    "metadata": {},
                    "execution_count": 4
                }
            ],
            "metadata": {}
        },
        {
            "cell_type": "code",
            "execution_count": 35,
            "source": [
                "gbc2 = GradientBoostingClassifier()\r\n",
                "param_grid = {'n_estimators': [i*100 for i in range(1, 5)]}\r\n",
                "gbcgs = GridSearchCV(gbc2, param_grid=param_grid, scoring='accuracy', cv=10)\r\n",
                "gbcgs.fit(X_train, y_train)\r\n",
                "pred = gbcgs.best_estimator_.predict(X_test)\r\n",
                "print(gbcgs.best_estimator_)\r\n",
                "print(classification_report(y_test, pred))\r\n",
                "'''\r\n",
                "GradientBoostingClassifier(n_estimators=400)\r\n",
                ".81 accuracy\r\n",
                "'''"
            ],
            "outputs": [
                {
                    "output_type": "stream",
                    "name": "stdout",
                    "text": [
                        "GradientBoostingClassifier(n_estimators=400)\n",
                        "              precision    recall  f1-score   support\n",
                        "\n",
                        "          -1       0.81      0.75      0.78      1816\n",
                        "           0       0.99      0.94      0.97       192\n",
                        "           1       0.79      0.84      0.81      2004\n",
                        "\n",
                        "    accuracy                           0.81      4012\n",
                        "   macro avg       0.86      0.84      0.85      4012\n",
                        "weighted avg       0.81      0.81      0.80      4012\n",
                        "\n"
                    ]
                }
            ],
            "metadata": {}
        },
        {
            "cell_type": "code",
            "execution_count": 5,
            "source": [
                "gbc3 = GradientBoostingClassifier()\r\n",
                "param_grid = {'n_estimators': [i*100 for i in range(5, 10)]}\r\n",
                "print('starting grid search')\r\n",
                "gbcgs = GridSearchCV(gbc3, param_grid=param_grid, scoring='accuracy', cv=10)\r\n",
                "print('grid search done')\r\n",
                "gbcgs.fit(X_train, y_train)\r\n",
                "pred = gbcgs.best_estimator_.predict(X_test)\r\n",
                "print(gbcgs.best_estimator_)\r\n",
                "print(classification_report(y_test, pred))\r\n",
                "'''\r\n",
                "GradientBoostingClassifier(n_estimators=900)\r\n",
                ".88 accuracy\r\n",
                "'''"
            ],
            "outputs": [
                {
                    "output_type": "stream",
                    "name": "stdout",
                    "text": [
                        "starting grid search\n",
                        "grid search done\n",
                        "GradientBoostingClassifier(n_estimators=900)\n",
                        "              precision    recall  f1-score   support\n",
                        "\n",
                        "          -1       0.88      0.85      0.87      1816\n",
                        "           0       0.99      0.94      0.97       192\n",
                        "           1       0.87      0.90      0.88      2004\n",
                        "\n",
                        "    accuracy                           0.88      4012\n",
                        "   macro avg       0.91      0.90      0.91      4012\n",
                        "weighted avg       0.88      0.88      0.88      4012\n",
                        "\n"
                    ]
                }
            ],
            "metadata": {}
        },
        {
            "cell_type": "code",
            "execution_count": 7,
            "source": [
                "gbc4 = GradientBoostingClassifier(n_estimators = 1000)\r\n",
                "gbc4.fit(X_train, y_train)\r\n",
                "pred = gbc4.predict(X_test)\r\n",
                "print(classification_report(y_test, pred))\r\n",
                "'''\r\n",
                "Best accuracy with 88% \r\n",
                "'''"
            ],
            "outputs": [
                {
                    "output_type": "stream",
                    "name": "stdout",
                    "text": [
                        "              precision    recall  f1-score   support\n",
                        "\n",
                        "          -1       0.88      0.86      0.87      1816\n",
                        "           0       0.99      0.94      0.97       192\n",
                        "           1       0.87      0.90      0.89      2004\n",
                        "\n",
                        "    accuracy                           0.88      4012\n",
                        "   macro avg       0.92      0.90      0.91      4012\n",
                        "weighted avg       0.88      0.88      0.88      4012\n",
                        "\n"
                    ]
                }
            ],
            "metadata": {}
        },
        {
            "cell_type": "code",
            "execution_count": null,
            "source": [],
            "outputs": [],
            "metadata": {}
        }
    ],
    "metadata": {
        "orig_nbformat": 4,
        "language_info": {
            "name": "python",
            "version": "3.9.6",
            "mimetype": "text/x-python",
            "codemirror_mode": {
                "name": "ipython",
                "version": 3
            },
            "pygments_lexer": "ipython3",
            "nbconvert_exporter": "python",
            "file_extension": ".py"
        },
        "kernelspec": {
            "name": "python3",
            "display_name": "Python 3.9.6 64-bit"
        },
        "interpreter": {
            "hash": "d3f5693a50ba4f77d76de97bf5031daef64d83771d220ae2fba131fd9d09e1ec"
        }
    },
    "nbformat": 4,
    "nbformat_minor": 2
}