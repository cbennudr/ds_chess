{
    "cells": [
        {
            "cell_type": "code",
            "execution_count": null,
            "source": [
                "import pandas as pd\r\n",
                "from sklearn.model_selection import train_test_split\r\n",
                "df = pd.read_csv('games.csv')\r\n",
                "df = df[['winner', 'rated', 'created_at', 'last_move_at', 'turns', 'victory_status', 'increment_code',\r\n",
                "         'white_rating', 'black_rating', 'opening_eco', 'opening_ply']]\r\n",
                "df.winner.replace({\"white\": 1, \"black\": -1, \"draw\": 0}, inplace=True)\r\n",
                "\r\n",
                "dfDum = pd.get_dummies(df)\r\n",
                "\r\n",
                "X = dfDum.drop('winner', axis=1)\r\n",
                "y = dfDum.winner.values\r\n",
                "\r\n",
                "# # #label encode\r\n",
                "# from sklearn.preprocessing import LabelEncoder\r\n",
                "# encode = LabelEncoder()\r\n",
                "\r\n",
                "# y = encode.fit_transform(y)\r\n",
                "# X[:, 0] = encode.fit_transform(X[:, 0])\r\n",
                "# X[:, 4] = encode.fit_transform(X[:, 4])\r\n",
                "# X[:, 5] = encode.fit_transform(X[:, 5])\r\n",
                "# X[:, 8] = encode.fit_transform(X[:, 8])\r\n",
                "\r\n",
                "X_train, X_test, y_train, y_test = train_test_split(X, y, test_size=0.2, random_state=42) \r\n"
            ],
            "outputs": [],
            "metadata": {}
        },
        {
            "cell_type": "markdown",
            "source": [
                "# KNN"
            ],
            "metadata": {}
        },
        {
            "cell_type": "code",
            "execution_count": null,
            "source": [
                "from sklearn.neighbors import KNeighborsClassifier\r\n",
                "knn = KNeighborsClassifier()\r\n",
                "knn.fit(X_train, y_train)\r\n",
                "pred = knn.predict(X_test)\r\n",
                "from sklearn.metrics import classification_report\r\n",
                "print(classification_report(y_test, pred))\r\n",
                "'''\r\n",
                "accuracy of .47\r\n",
                "'''\r\n"
            ],
            "outputs": [],
            "metadata": {}
        },
        {
            "cell_type": "code",
            "execution_count": null,
            "source": [
                "from sklearn.model_selection import GridSearchCV\r\n",
                "knn2 = KNeighborsClassifier()\r\n",
                "param_grid = {'n_neighbors': [i for i in range(1, 100)]}\r\n",
                "gs = GridSearchCV(knn2, param_grid, cv=10, scoring='accuracy')\r\n",
                "gs.fit(X_train, y_train)\r\n",
                "\r\n",
                "print(gs.best_estimator_)\r\n",
                "pred = gs.best_estimator_.predict(X_test)\r\n",
                "print(classification_report(y_test, pred))\r\n",
                "'''\r\n",
                "Result:\r\n",
                "KNeighborsClassifier(algorithm='auto', leaf_size=30, metric='minkowski',\r\n",
                "                     metric_params=None, n_jobs=None, n_neighbors=1, p=2,\r\n",
                "                     weights='uniform')\r\n",
                "accuracy of .48\r\n",
                "'''"
            ],
            "outputs": [],
            "metadata": {}
        },
        {
            "cell_type": "markdown",
            "source": [
                "# Decision tree"
            ],
            "metadata": {}
        },
        {
            "cell_type": "code",
            "execution_count": null,
            "source": [
                "from sklearn.tree import DecisionTreeClassifier\r\n",
                "dt = DecisionTreeClassifier()\r\n",
                "dt.fit(X_train, y_train)\r\n",
                "pred = dt.predict(X_test)\r\n",
                "print(classification_report(y_test, pred))\r\n",
                "'''\r\n",
                "accuracy of .65\r\n",
                "'''"
            ],
            "outputs": [],
            "metadata": {}
        },
        {
            "cell_type": "code",
            "execution_count": null,
            "source": [
                "dt2 = DecisionTreeClassifier()\r\n",
                "param_grid = {'criterion': ['gini', 'entropy'], 'splitter': ['best', 'random']}\r\n",
                "gs = GridSearchCV(dt2, param_grid, cv=10, scoring='accuracy')\r\n",
                "gs.fit(X_train, y_train)\r\n",
                "\r\n",
                "print(gs.best_estimator_)\r\n",
                "pred = gs.best_estimator_.predict(X_test)\r\n",
                "print(classification_report(y_test, pred))\r\n",
                "'''\r\n",
                "Result: \r\n",
                "DecisionTreeClassifier(ccp_alpha=0.0, class_weight=None, criterion='entropy',\r\n",
                "                       max_depth=None, max_features=None, max_leaf_nodes=None,\r\n",
                "                       min_impurity_decrease=0.0, min_impurity_split=None,\r\n",
                "                       min_samples_leaf=1, min_samples_split=2,\r\n",
                "                       min_weight_fraction_leaf=0.0, presort='deprecated',\r\n",
                "                       random_state=None, splitter='best')\r\n",
                "accuracy of .64\r\n",
                "'''"
            ],
            "outputs": [],
            "metadata": {}
        },
        {
            "cell_type": "code",
            "execution_count": null,
            "source": [],
            "outputs": [],
            "metadata": {}
        }
    ],
    "metadata": {
        "orig_nbformat": 4,
        "language_info": {
            "name": "python",
            "version": "3.7.6",
            "mimetype": "text/x-python",
            "codemirror_mode": {
                "name": "ipython",
                "version": 3
            },
            "pygments_lexer": "ipython3",
            "nbconvert_exporter": "python",
            "file_extension": ".py"
        },
        "kernelspec": {
            "name": "python3",
            "display_name": "Python 3.7.6 64-bit ('base': conda)"
        },
        "interpreter": {
            "hash": "4daf9c02b5623c0360fcfe1d6dda508d767b2df27b9fea1946db53939aeb33a9"
        }
    },
    "nbformat": 4,
    "nbformat_minor": 2
}