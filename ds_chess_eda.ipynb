{
 "cells": [
  {
   "cell_type": "code",
   "execution_count": null,
   "source": [
    "import pandas as pd\r\n",
    "import numpy as np\r\n",
    "import matplotlib.pyplot as plt\r\n",
    "import seaborn as sns"
   ],
   "outputs": [],
   "metadata": {}
  },
  {
   "cell_type": "code",
   "execution_count": null,
   "source": [
    "df = pd.read_csv('games.csv')\r\n",
    "'''\r\n",
    "id =                Game ID\r\n",
    "rated =             Rated (T/F)\r\n",
    "created_at =        Start Time\r\n",
    "last_move_at =      End Time\r\n",
    "turns =             Number of Turns\r\n",
    "victory_status =    Game Status (how game was won)\r\n",
    "winner =            Winner\r\n",
    "increment_code =    Time Increment\r\n",
    "white_id =          White Player ID\r\n",
    "white_rating =      White Player Rating\r\n",
    "black_id =          Black Player ID\r\n",
    "black_rating =      Black Player Rating\r\n",
    "moves =             All Moves in Standard Chess Notation\r\n",
    "opening_eco =       Opening Eco (Standardised Code for any given opening)\r\n",
    "opening_name =      Opening Name\r\n",
    "opening_ply =       Opening Ply (Number of moves in the opening phase)\r\n",
    "'''"
   ],
   "outputs": [],
   "metadata": {}
  },
  {
   "cell_type": "code",
   "execution_count": null,
   "source": [
    "df.shape"
   ],
   "outputs": [],
   "metadata": {}
  },
  {
   "cell_type": "code",
   "execution_count": null,
   "source": [
    "df.head()"
   ],
   "outputs": [],
   "metadata": {}
  },
  {
   "cell_type": "code",
   "execution_count": null,
   "source": [
    "df.describe()"
   ],
   "outputs": [],
   "metadata": {}
  },
  {
   "cell_type": "code",
   "execution_count": null,
   "source": [
    "df.dtypes"
   ],
   "outputs": [],
   "metadata": {}
  },
  {
   "cell_type": "code",
   "execution_count": null,
   "source": [
    "pd.set_option('display.max_rows', 10)\r\n",
    "df.select_dtypes(include=['number'])"
   ],
   "outputs": [],
   "metadata": {}
  },
  {
   "cell_type": "code",
   "execution_count": null,
   "source": [
    "df.select_dtypes(include=['object'])"
   ],
   "outputs": [],
   "metadata": {}
  },
  {
   "cell_type": "code",
   "execution_count": null,
   "source": [
    "df.isnull().sum()"
   ],
   "outputs": [],
   "metadata": {}
  },
  {
   "cell_type": "code",
   "execution_count": null,
   "source": [
    "print(df.white_rating.max())\r\n",
    "#is same as \r\n",
    "print(df['white_rating'].max())"
   ],
   "outputs": [],
   "metadata": {}
  },
  {
   "cell_type": "code",
   "execution_count": null,
   "source": [
    "df[df.white_rating == df.white_rating.max()] #inside brackets is the condition"
   ],
   "outputs": [],
   "metadata": {}
  },
  {
   "cell_type": "code",
   "execution_count": null,
   "source": [
    "highestRatedPlayerWin = df[df.white_rating == df.white_rating.max()]\r\n",
    "highestRatedPlayerWin.winner"
   ],
   "outputs": [],
   "metadata": {}
  },
  {
   "cell_type": "code",
   "execution_count": null,
   "source": [
    "df[df.white_rating >= 2622]"
   ],
   "outputs": [],
   "metadata": {}
  },
  {
   "cell_type": "code",
   "execution_count": null,
   "source": [
    "df[df.winner == 'white']"
   ],
   "outputs": [],
   "metadata": {}
  },
  {
   "cell_type": "code",
   "execution_count": null,
   "source": [
    "df.groupby('winner').get_group('white')"
   ],
   "outputs": [],
   "metadata": {}
  },
  {
   "cell_type": "code",
   "execution_count": null,
   "source": [
    "df.groupby('winner').white_rating.describe()"
   ],
   "outputs": [],
   "metadata": {}
  },
  {
   "cell_type": "code",
   "execution_count": null,
   "source": [
    "actWin = ['black', 'white']\r\n",
    "win = df[df.winner.isin(actWin)]\r\n",
    "print(win)\r\n",
    "\r\n",
    "win.groupby('winner').white_rating.describe()"
   ],
   "outputs": [],
   "metadata": {}
  },
  {
   "cell_type": "code",
   "execution_count": null,
   "source": [
    "#barplot of most common openings\r\n",
    "pd.set_option(\"display.max_rows\", None, \"display.max_columns\", None)\r\n",
    "counts = df.opening_name.value_counts()[:20]\r\n",
    "\r\n",
    "plot = sns.barplot(x = counts.index, y = counts)\r\n",
    "plot.set_xticklabels(plot.get_xticklabels(), rotation = 90)\r\n",
    "plt.show()"
   ],
   "outputs": [],
   "metadata": {}
  },
  {
   "cell_type": "code",
   "execution_count": null,
   "source": [
    "df.boxplot(column=['white_rating','black_rating'])"
   ],
   "outputs": [],
   "metadata": {}
  },
  {
   "cell_type": "code",
   "execution_count": null,
   "source": [
    "print(pd.pivot_table(df, index=['rated'], values=['white_rating']))\r\n",
    "print(pd.pivot_table(df, index=['rated'], values=['black_rating']))"
   ],
   "outputs": [],
   "metadata": {}
  },
  {
   "cell_type": "code",
   "execution_count": null,
   "source": [
    "print(pd.pivot_table(df, index=['winner'], values=['turns']))"
   ],
   "outputs": [],
   "metadata": {}
  },
  {
   "cell_type": "code",
   "execution_count": null,
   "source": [
    "corr = df.corr()\r\n",
    "mask = np.triu(np.ones_like(corr, dtype=bool)) \r\n",
    "sns.heatmap(corr, mask=mask)"
   ],
   "outputs": [],
   "metadata": {}
  },
  {
   "cell_type": "code",
   "execution_count": null,
   "source": [
    "vc = df['increment_code'].value_counts()[:40]\r\n",
    "chart = sns.barplot(x=vc.index, y=vc)\r\n",
    "chart.set_xticklabels(chart.get_xticklabels(), rotation=90)\r\n",
    "plt.show()"
   ],
   "outputs": [],
   "metadata": {}
  },
  {
   "cell_type": "code",
   "execution_count": null,
   "source": [
    "df.columns"
   ],
   "outputs": [],
   "metadata": {}
  },
  {
   "cell_type": "code",
   "execution_count": null,
   "source": [
    "df_cats = df[['id', 'rated', 'turns', 'victory_status', 'winner', 'increment_code', 'opening_name',\r\n",
    "              'white_rating', 'black_rating']]\r\n",
    "for i in df_cats.columns:\r\n",
    "    cat_num = df_cats[i].value_counts()[:40]\r\n",
    "    print(f\"graph for {i}\")\r\n",
    "    chart = sns.barplot(x = cat_num.index, y = cat_num)\r\n",
    "    chart.set_xticklabels(chart.get_xticklabels(), rotation=90)\r\n",
    "    plt.show()"
   ],
   "outputs": [],
   "metadata": {}
  },
  {
   "cell_type": "code",
   "execution_count": null,
   "source": [],
   "outputs": [],
   "metadata": {}
  }
 ],
 "metadata": {
  "orig_nbformat": 4,
  "language_info": {
   "name": "python",
   "version": "3.9.6",
   "mimetype": "text/x-python",
   "codemirror_mode": {
    "name": "ipython",
    "version": 3
   },
   "pygments_lexer": "ipython3",
   "nbconvert_exporter": "python",
   "file_extension": ".py"
  },
  "kernelspec": {
   "name": "python3",
   "display_name": "Python 3.9.6 64-bit"
  },
  "interpreter": {
   "hash": "d3f5693a50ba4f77d76de97bf5031daef64d83771d220ae2fba131fd9d09e1ec"
  }
 },
 "nbformat": 4,
 "nbformat_minor": 2
}